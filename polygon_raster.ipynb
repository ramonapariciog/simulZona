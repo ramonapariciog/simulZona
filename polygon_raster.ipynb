{
 "cells": [
  {
   "cell_type": "code",
   "execution_count": 1,
   "metadata": {},
   "outputs": [],
   "source": [
    "from osgeo import ogr\n",
    "from osgeo import gdal\n",
    "import os, re\n",
    "import json\n",
    "import zipfile\n",
    "import time\n",
    "import numpy as np\n",
    "\n",
    "# from shapely.geometry.polygon import LinearRing, Polygon\n",
    "import matplotlib.pyplot as plt\n",
    "from matplotlib.patches import Polygon\n",
    "from matplotlib.collections import PatchCollection"
   ]
  },
  {
   "cell_type": "code",
   "execution_count": null,
   "metadata": {},
   "outputs": [],
   "source": [
    "def open_shape(zippedfile=\"./HYS20120418.zip\", decompressdir=\"./descomp\"):\n",
    "    zipf = zipfile.ZipFile(zippedfile)\n",
    "    regexext = re.compile(\".*\\.shp$\")\n",
    "    nameshapes = list(filter(lambda x: regexext.match(x), zipf.namelist()))\n",
    "    # print(nameshapes)\n",
    "    os.makedirs(decompressdir, exist_ok=True)\n",
    "    nameshapesp = list(map(lambda x: x.replace(\".shp\", \"\"), nameshapes))\n",
    "    shapedict = dict()\n",
    "    for shapef, shapename in zip(nameshapes, nameshapesp):\n",
    "        zipf.extract(shapef, decompressdir)\n",
    "        zipf.extract(shapef.replace(\".shp\", \".shx\"), decompressdir)\n",
    "        shapepath = os.path.join(decompressdir, shapef)\n",
    "        # print(shapepath)\n",
    "        shapefile = ogr.Open(shapepath)\n",
    "        shapelayer = shapefile.GetLayer(0)\n",
    "        nfeats = shapelayer.GetFeatureCount()\n",
    "        coords = []\n",
    "        values_f = []\n",
    "        for i in range(nfeats):\n",
    "            # first feature of the shapefile\n",
    "            feature = shapelayer.GetFeature(i)\n",
    "            jsonfeat = feature.ExportToJson()\n",
    "            values = json.loads(jsonfeat)\n",
    "            values_arr = values[\"geometry\"][\"coordinates\"][0]\n",
    "            values_f.append(values)\n",
    "            # La primer capa es la mas grande, preguntar si se utilizaria\n",
    "            coords.append(np.asarray(values_arr))\n",
    "        shapedict.update({shapename: {\"jsonShape\": values_f,\n",
    "                                      \"coords\": coords}})\n",
    "    return shapedict\n",
    "\n",
    "def graph_shape(coords):\n",
    "    minx = np.min(list(map(lambda x: x[:, 0].min(), coords)))\n",
    "    maxx = np.max(list(map(lambda x: x[:, 0].max(), coords)))\n",
    "    miny = np.min(list(map(lambda x: x[:, 1].min(), coords)))\n",
    "    maxy = np.max(list(map(lambda x: x[:, 1].max(), coords)))\n",
    "    patches = []\n",
    "    fig, ax = plt.subplots()\n",
    "    for co in coords:\n",
    "        polygon = Polygon(co, True)\n",
    "        patches.append(polygon)\n",
    "    p = PatchCollection(patches, cmap=plt.cm.jet, alpha=0.4)\n",
    "    ax.add_collection(p)\n",
    "    ax.set_xlim(minx - 1, maxx + 1)\n",
    "    ax.set_ylim(miny - 1, maxy + 1)\n",
    "    # fig.show()\n",
    "    return fig, patches\n",
    "\n",
    "\n",
    "def georef2pix(coords, metadata):\n",
    "    \"\"\"Traducir las coordenadas del poligono a pixeles en una imagen.\n",
    "    Las coordenadas pertenecen a una imagen tipo shape, un poligono cerrado\n",
    "    georeferenciado, mientras que los metadatos deben ser las descripciones del\n",
    "    tamaño de la imagen y el paso asociado a cada pixel.\"\"\"\n",
    "    pass\n",
    "\n",
    "\n",
    "def reubicar(array, magnitud, origen):\n",
    "    minarr = array.min()\n",
    "    origin = array - minarr\n",
    "    maxarr = array.max()\n",
    "    normal = (origin * magnitud / maxarr) + origen\n",
    "    return normal\n",
    "\n",
    "\n",
    "def poligon2bitmap(polygon, size=(300, 300), offset=30):\n",
    "    polyx = reubicar(polygon[:, 0], size[0] - offset, offset)\n",
    "    polyy = reubicar(polygon[:, 1], size[1] - offset, offset)\n",
    "    img = np.zeros((size[0], size[0], 3), dtype=np.uint8)\n",
    "    points = np.hstack((polyx.reshape(-1, 1), polyy.reshape(-1, 1)))\n",
    "    # cv2.fillPoly(img, pts=[points], color=(255, 0, 0))\n",
    "    return points\n",
    "\n",
    "def boundingBoxToOffsets(bbox, geot):\n",
    "    col1 = int((bbox[0] - geot[0]) / geot[1])\n",
    "    col2 = int((bbox[1] - geot[0]) / geot[1]) + 1\n",
    "    row1 = int((bbox[3] - geot[3]) / geot[5])\n",
    "    row2 = int((bbox[2] - geot[3]) / geot[5]) + 1\n",
    "    return [row1, row2, col1, col2]\n",
    "\n",
    "def geotFromOffsets(row_offset, col_offset, geot):\n",
    "    new_geot = [geot[0] + (col_offset * geot[1]), \\\n",
    "        geot[1], 0.0, geot[3] + (row_offset * geot[5]), \\\n",
    "        0.0, geot[5]]\n",
    "    return new_geot"
   ]
  },
  {
   "cell_type": "code",
   "execution_count": 51,
   "metadata": {},
   "outputs": [
    {
     "data": {
      "text/plain": [
       "(<Figure size 432x288 with 1 Axes>,\n",
       " [<matplotlib.patches.Polygon at 0x7feb5a705eb8>,\n",
       "  <matplotlib.patches.Polygon at 0x7feb5a3efe48>,\n",
       "  <matplotlib.patches.Polygon at 0x7feb5a3efeb8>,\n",
       "  <matplotlib.patches.Polygon at 0x7feb5a3eff28>,\n",
       "  <matplotlib.patches.Polygon at 0x7feb5a3eff98>,\n",
       "  <matplotlib.patches.Polygon at 0x7feb5a4ef048>,\n",
       "  <matplotlib.patches.Polygon at 0x7feb5a4ef0b8>])"
      ]
     },
     "execution_count": 51,
     "metadata": {},
     "output_type": "execute_result"
    },
    {
     "data": {
      "image/png": "[encoded data removed]",
      "text/plain": [
       "<Figure size 432x288 with 1 Axes>"
      ]
     },
     "metadata": {
      "needs_background": "light"
     },
     "output_type": "display_data"
    }
   ],
   "source": [
    "shapedict = open_shape(zippedfile=\"./HYS20120420.zip\")\n",
    "graph_shape(shapedict[\"GIS_06705_22178_06\"][\"coords\"])"
   ]
  },
  {
   "cell_type": "code",
   "execution_count": 52,
   "metadata": {},
   "outputs": [
    {
     "name": "stdout",
     "output_type": "stream",
     "text": [
      "(-98.69017344043361, 0.004354034387426428, 0.0, 19.088171868918984, 0.0, -0.004354034387426428)\n"
     ]
    },
    {
     "data": {
      "image/png": "[encoded data removed]",
      "text/plain": [
       "<Figure size 432x288 with 1 Axes>"
      ]
     },
     "metadata": {
      "needs_background": "light"
     },
     "output_type": "display_data"
    }
   ],
   "source": [
    "## Cargar imagen\n",
    "imgtif = gdal.Open(\"MAPA_AEROVIAS_GEORECTIFICADO2.tif\", gdal.GA_ReadOnly)\n",
    "# bands = list(map(lambda x: imgtif.GetRasterBand(x), range(1, imgtif.RasterCount + 1)))\n",
    "# matrs = list(map(lambda x: x.ReadAsArray(), bands))\n",
    "\n",
    "#fig, axes = plt.subplots(2,2,figsize=(20,20))\n",
    "#axes = axes.reshape(-1,)\n",
    "#for ax, matr in zip(axes, matrs):\n",
    "#    ax.imshow(matr, plt.cm.Greys_r)\n",
    "#fig.show()\n",
    "\n",
    "# get geotransform and no data for raster\n",
    "geot = imgtif.GetGeoTransform()\n",
    "nodata = imgtif.GetRasterBand(1).GetNoDataValue()\n",
    "\n",
    "zstats = []  # empty list to hold the zonal statistics once they are calculated\n",
    "mem_driver = ogr.GetDriverByName(\"Memory\")\n",
    "mem_driver_gdal = gdal.GetDriverByName(\"MEM\")\n",
    "shp_name = \"temp\"\n",
    "\n",
    "tp_ds = mem_driver.CreateDataSource(shp_name)\n",
    "tp_lyr = tp_ds.CreateLayer('polygons', None, ogr.wkbPolygon)\n",
    "fn_zones = \"./HYS20120420/GIS_06705_22178_06.shp\"\n",
    "p_ds = ogr.Open(fn_zones)\n",
    "lyr = p_ds.GetLayer()\n",
    "p_feat = lyr.GetNextFeature()\n",
    "tp_lyr.CreateFeature(p_feat.Clone())\n",
    "\n",
    "offsets = boundingBoxToOffsets(p_feat.GetGeometryRef().GetEnvelope(),\\\n",
    "        geot)  # get the bounding box of the polygon feature and convert the coordinates to cell offsets\n",
    "new_geot = geotFromOffsets(offsets[0], offsets[2], geot)  # calculate the new geotransform for the polygonized raster\n",
    "tr_ds = mem_driver_gdal.Create(\\\n",
    "        \"\", \\\n",
    "        offsets[3] - offsets[2], \\\n",
    "        offsets[1] - offsets[0], \\\n",
    "        1, \\\n",
    "        gdal.GDT_Byte)\n",
    "\n",
    "tr_ds.SetGeoTransform(new_geot)\n",
    "gdal.RasterizeLayer(tr_ds, [1], tp_lyr, burn_values=[1])\n",
    "tr_array = tr_ds.ReadAsArray()\n",
    "\n",
    "# read data from the input raster that corresponds\n",
    "# to the location of the rasterized polygon\n",
    "r_array = imgtif.GetRasterBand(1).ReadAsArray(\\\n",
    "offsets[2],\\\n",
    "offsets[0],\\\n",
    "offsets[3] - offsets[2],\\\n",
    "offsets[1] - offsets[0])\n",
    "\n",
    "# get the ID of the polygon feature, you can use a different attribute field\n",
    "id = p_feat.GetFID()\n",
    "\n",
    "## Print simulation\n",
    "if r_array is not None:\n",
    "    ## Implica que la raster band se cargue y limitar\n",
    "    maskarray = np.logical_or(r_array==nodata, tr_array)\n",
    "print(tr_ds.GetGeoTransform())\n",
    "\n",
    "va = np.ma.masked_array(r_array, maskarray)\n",
    "vb = np.ma.masked_array(r_array, np.logical_not(maskarray))\n",
    "\n",
    "## Plot vulcan\n",
    "# plt.scatter(x=pixx, y=pixy, s=100, c='green', marker=\"^\")\n",
    "cm = plt.imshow(va, cmap='gray')\n",
    "plt.imshow(vb, cmap='Reds')\n",
    "plt.show()"
   ]
  },
  {
   "cell_type": "markdown",
   "metadata": {},
   "source": [
    "### Para hacer la conversión de coordenadas a bitmap con skimage\n",
    "```python\n",
    "from skimage.draw import polygon\n",
    "import numpy as np\n",
    "\n",
    "poly = np.array((\n",
    "    (300, 300),\n",
    "    (350, 400),\n",
    "    (480, 440),\n",
    "    (380, 490),\n",
    "    (220, 590),\n",
    "    (300, 300),\n",
    "))\n",
    "img = np.ones((1000, 1000, 3), dtype=np.uint8) * 255\n",
    "rr, cc = polygon(poly[:, 0], poly[:, 1], img.shape)\n",
    "img[rr, cc, 0] = 1 * 255\n",
    "img[rr, cc, 1] = 0\n",
    "img[rr, cc, 2] = 0\n",
    "\n",
    "plt.imshow(img)\n",
    "plt.show()\n",
    "```"
   ]
  }
 ],
 "metadata": {
  "kernelspec": {
   "display_name": "Python (gdal)",
   "language": "python",
   "name": "testgdal"
  },
  "language_info": {
   "codemirror_mode": {
    "name": "ipython",
    "version": 3
   },
   "file_extension": ".py",
   "mimetype": "text/x-python",
   "name": "python",
   "nbconvert_exporter": "python",
   "pygments_lexer": "ipython3",
   "version": "3.6.7"
  }
 },
 "nbformat": 4,
 "nbformat_minor": 2
}
